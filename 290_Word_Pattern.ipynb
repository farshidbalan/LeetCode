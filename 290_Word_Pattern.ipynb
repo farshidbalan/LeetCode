{
  "nbformat": 4,
  "nbformat_minor": 0,
  "metadata": {
    "colab": {
      "name": "290. Word Pattern.ipynb",
      "version": "0.3.2",
      "provenance": [],
      "collapsed_sections": [],
      "include_colab_link": true
    },
    "kernelspec": {
      "name": "python3",
      "display_name": "Python 3"
    }
  },
  "cells": [
    {
      "cell_type": "markdown",
      "metadata": {
        "id": "view-in-github",
        "colab_type": "text"
      },
      "source": [
        "<a href=\"https://colab.research.google.com/github/farshidbalan/LeetCode/blob/master/290_Word_Pattern.ipynb\" target=\"_parent\"><img src=\"https://colab.research.google.com/assets/colab-badge.svg\" alt=\"Open In Colab\"/></a>"
      ]
    },
    {
      "cell_type": "markdown",
      "metadata": {
        "id": "Fh6oWgst2Uox",
        "colab_type": "text"
      },
      "source": [
        "Easy \n",
        "\n",
        "\n",
        "Given a pattern and a string str, find if str follows the same pattern.\n",
        "\n",
        "Here follow means a full match, such that there is a bijection between a letter in pattern and a non-empty word in str.\n",
        "\n",
        "\n",
        "Example 1:\n",
        "\n",
        "Input: pattern = \"abba\", str = \"dog cat cat dog\"\n",
        "\n",
        "Output: true\n",
        "\n",
        "Example 2:\n",
        "\n",
        "Input:pattern = \"abba\", str = \"dog cat cat fish\"\n",
        "\n",
        "Output: false\n",
        "\n",
        "Example 3:\n",
        "\n",
        "Input: pattern = \"aaaa\", str = \"dog cat cat dog\"\n",
        "\n",
        "Output: false\n",
        "\n",
        "Example 4:\n",
        "\n",
        "Input: pattern = \"abba\", str = \"dog dog dog dog\"\n",
        "\n",
        "Output: false\n",
        "\n",
        "Notes:\n",
        "\n",
        "You may assume pattern contains only lowercase letters, and str contains lowercase letters that may be separated by a single space."
      ]
    },
    {
      "cell_type": "code",
      "metadata": {
        "id": "kQ3cKxML6qsq",
        "colab_type": "code",
        "colab": {}
      },
      "source": [
        "class Solution:\n",
        "    \n",
        "    def wordPattern(self, pattern: str, str: str) -> bool:\n",
        "        self.pattern = list(pattern)\n",
        "        self.str = str.split(' ')\n",
        "        pattern_ = self.find_pattern(self.pattern)\n",
        "        str_ = self.find_pattern(self.str)\n",
        "        match = False\n",
        "        count = 0\n",
        "        if len(str_) != len(pattern_):\n",
        "            return False\n",
        "        for idx1, v1 in enumerate(pattern_):\n",
        "          for idx2, v2 in enumerate(str_):\n",
        "            if (idx1 == idx2) and (v1 == v2):\n",
        "              count += 1\n",
        "        if count > 0 and count == len(pattern_):\n",
        "          return(True)\n",
        "        else:\n",
        "          return(False)\n",
        "        \n",
        "    \n",
        "    @staticmethod\n",
        "    def find_pattern(pattern):\n",
        "      from collections import OrderedDict\n",
        "      pattern_dict = OrderedDict()\n",
        "      for idx, letter in enumerate(pattern):\n",
        "          pattern_dict.setdefault(letter, []).append(idx)\n",
        "      return pattern_dict.values()"
      ],
      "execution_count": 0,
      "outputs": []
    },
    {
      "cell_type": "code",
      "metadata": {
        "id": "eGkMLWMUMvu5",
        "colab_type": "code",
        "outputId": "406fb1a8-4661-4613-ed1e-f30d0363c2cd",
        "colab": {
          "base_uri": "https://localhost:8080/",
          "height": 34
        }
      },
      "source": [
        "s = Solution()\n",
        "s.wordPattern('abad', 'dog cat dog lion') "
      ],
      "execution_count": 33,
      "outputs": [
        {
          "output_type": "execute_result",
          "data": {
            "text/plain": [
              "True"
            ]
          },
          "metadata": {
            "tags": []
          },
          "execution_count": 33
        }
      ]
    }
  ]
}
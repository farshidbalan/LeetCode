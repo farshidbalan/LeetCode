{
  "nbformat": 4,
  "nbformat_minor": 0,
  "metadata": {
    "colab": {
      "name": "1. Two Sum.ipynb",
      "version": "0.3.2",
      "provenance": [],
      "include_colab_link": true
    },
    "kernelspec": {
      "name": "python3",
      "display_name": "Python 3"
    }
  },
  "cells": [
    {
      "cell_type": "markdown",
      "metadata": {
        "id": "view-in-github",
        "colab_type": "text"
      },
      "source": [
        "<a href=\"https://colab.research.google.com/github/farshidbalan/LeetCode/blob/master/1_Two_Sum.ipynb\" target=\"_parent\"><img src=\"https://colab.research.google.com/assets/colab-badge.svg\" alt=\"Open In Colab\"/></a>"
      ]
    },
    {
      "cell_type": "markdown",
      "metadata": {
        "id": "OAUo4epK_kDl",
        "colab_type": "text"
      },
      "source": [
        "__Easy__\n",
        "\n",
        "Given an array of integers, return indices of the two numbers such that they add up to a specific target.\n",
        "\n",
        "You may assume that each input would have exactly one solution, and you may not use the same element twice.\n",
        "\n",
        "Example:\n",
        "\n",
        "Given nums = [2, 7, 11, 15], target = 9,\n",
        "\n",
        "Because nums[0] + nums[1] = 2 + 7 = 9,\n",
        "\n",
        "return [0, 1]."
      ]
    },
    {
      "cell_type": "code",
      "metadata": {
        "id": "uaTPQeW9_k_3",
        "colab_type": "code",
        "colab": {}
      },
      "source": [
        "# I got some help from Discussion for this problem. In my original attempt, I didn't use dictionary. Applying \"in\" for retrieving dictionaries was new to me.\n",
        "\n",
        "class Solution:\n",
        "    def twoSum(self, nums: List[int], target: int) -> List[int]:\n",
        "        result = {}\n",
        "        for idx, val in enumerate(nums):\n",
        "            if val in result:\n",
        "                return [result[val], idx]\n",
        "            result[target - val] = idx"
      ],
      "execution_count": 0,
      "outputs": []
    }
  ]
}
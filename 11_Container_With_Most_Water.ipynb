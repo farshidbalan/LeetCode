{
  "nbformat": 4,
  "nbformat_minor": 0,
  "metadata": {
    "colab": {
      "name": "11. Container With Most Water.ipynb",
      "version": "0.3.2",
      "provenance": [],
      "include_colab_link": true
    },
    "kernelspec": {
      "name": "python3",
      "display_name": "Python 3"
    }
  },
  "cells": [
    {
      "cell_type": "markdown",
      "metadata": {
        "id": "view-in-github",
        "colab_type": "text"
      },
      "source": [
        "<a href=\"https://colab.research.google.com/github/farshidbalan/LeetCode/blob/master/11_Container_With_Most_Water.ipynb\" target=\"_parent\"><img src=\"https://colab.research.google.com/assets/colab-badge.svg\" alt=\"Open In Colab\"/></a>"
      ]
    },
    {
      "cell_type": "markdown",
      "metadata": {
        "id": "NbkGu2F--UlF",
        "colab_type": "text"
      },
      "source": [
        "##### Medium\n",
        "\n",
        "\n",
        "Given n non-negative integers a1, a2, ..., an , where each represents a point at coordinate (i, ai). n vertical lines are drawn such that the two endpoints of line i is at (i, ai) and (i, 0). Find two lines, which together with x-axis forms a container, such that the container contains the most water.\n",
        "\n",
        "Note: You may not slant the container and n is at least 2.\n",
        "\n",
        "\n",
        "The above vertical lines are represented by array [1,8,6,2,5,4,8,3,7]. In this case, the max area of water (blue section) the container can contain is 49.\n",
        "\n",
        " \n",
        "![alt text](https://s3-lc-upload.s3.amazonaws.com/uploads/2018/07/17/question_11.jpg)\n",
        "Example:\n",
        "\n",
        "Input: [1,8,6,2,5,4,8,3,7]\n",
        "Output: 49"
      ]
    },
    {
      "cell_type": "code",
      "metadata": {
        "id": "KsGgWyvE-kAg",
        "colab_type": "code",
        "outputId": "6b206b19-31b6-4dc2-f3dc-3fe55843daa8",
        "colab": {
          "base_uri": "https://localhost:8080/",
          "height": 51
        }
      },
      "source": [
        "height = [2, 0]\n",
        "area = [(idx, h, h * idx + 1) for idx, h in enumerate(height)]    \n",
        "first_bar = max(area, key=lambda x: x[2])\n",
        "print(first_bar)\n",
        "max_area = []\n",
        "bigger_bars = []\n",
        "smaller_bars = []\n",
        "for idx, val in enumerate(height[:first_bar[0]]):\n",
        "  if val >= first_bar[1]:\n",
        "    bigger_bars.append((idx, val))\n",
        "  else:\n",
        "    smaller_bars.append((idx, val))\n",
        "\n",
        "\n",
        "if len(bigger_bars) > 0:\n",
        "  area = list(map(lambda item: (first_bar[0] - item[0]) * first_bar[1], bigger_bars))\n",
        "else:\n",
        "  area = list(map(lambda item: (first_bar[0] - item[0]) * abs(first_bar[1] - item[1]), smaller_bars))\n",
        "  \n",
        "max_area = max(area)\n",
        "max_area"
      ],
      "execution_count": 0,
      "outputs": [
        {
          "output_type": "stream",
          "text": [
            "(0, 2, 1)\n"
          ],
          "name": "stdout"
        },
        {
          "output_type": "execute_result",
          "data": {
            "text/plain": [
              "0"
            ]
          },
          "metadata": {
            "tags": []
          },
          "execution_count": 22
        }
      ]
    },
    {
      "cell_type": "code",
      "metadata": {
        "id": "gY3G7-7WE4MW",
        "colab_type": "code",
        "outputId": "d4f911eb-f2db-4182-a738-e7e3bbd225b3",
        "colab": {
          "base_uri": "https://localhost:8080/",
          "height": 34
        }
      },
      "source": [
        "# def maxArea(self, height: List[int]) -> int:\n",
        "input_ = [1,8,6,2,5,4,8,3,7]\n",
        "#input_ = [1, 1]\n",
        "max_area = 0\n",
        "for i in range(0, len(input_)):\n",
        "  for j in range(len(input_) - 1, 0, -1):    \n",
        "      left_val, left_idx = input_[i], i + 1\n",
        "      right_val, right_idx = input_[j], j+1\n",
        "      area =  abs(right_idx - left_idx) * min(right_val, left_val )\n",
        "      if area > max_area:\n",
        "        max_area = area\n",
        "  \n",
        "print(max_area)\n"
      ],
      "execution_count": 44,
      "outputs": [
        {
          "output_type": "stream",
          "text": [
            "49\n"
          ],
          "name": "stdout"
        }
      ]
    },
    {
      "cell_type": "markdown",
      "metadata": {
        "id": "1rEyWeS0EAY5",
        "colab_type": "text"
      },
      "source": [
        "## Two Pointer Approach\n",
        "Algorithm\n",
        "\n",
        "The intuition behind this approach is that the area formed between the lines will always be limited by the height of the shorter line. Further, the farther the lines, the more will be the area obtained.\n",
        "\n",
        "We take two pointers, one at the beginning and one at the end of the array constituting the length of the lines. Futher, we maintain a variable \\text{maxarea}maxarea to store the maximum area obtained till now. At every step, we find out the area formed between them, update \\text{maxarea}maxarea and move the pointer pointing to the shorter line towards the other end by one step."
      ]
    },
    {
      "cell_type": "code",
      "metadata": {
        "id": "qOQp5D5tC9NF",
        "colab_type": "code",
        "colab": {}
      },
      "source": [
        "def maxArea(height) -> int:\n",
        "    i, j = 0, len(height)-1\n",
        "    max_water = 0\n",
        "    while i < j:\n",
        "        max_water = max(max_water, (j-i)*min(height[i], height[j]))\n",
        "        if height[i]<height[j]: \n",
        "          i += 1\n",
        "        else: j -= 1\n",
        "\n",
        "    return max_water"
      ],
      "execution_count": 0,
      "outputs": []
    }
  ]
}
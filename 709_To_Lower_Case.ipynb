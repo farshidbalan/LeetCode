{
  "nbformat": 4,
  "nbformat_minor": 0,
  "metadata": {
    "colab": {
      "name": "709. To Lower Case.ipynb",
      "version": "0.3.2",
      "provenance": [],
      "include_colab_link": true
    },
    "kernelspec": {
      "name": "python3",
      "display_name": "Python 3"
    }
  },
  "cells": [
    {
      "cell_type": "markdown",
      "metadata": {
        "id": "view-in-github",
        "colab_type": "text"
      },
      "source": [
        "<a href=\"https://colab.research.google.com/github/farshidbalan/LeetCode/blob/master/709_To_Lower_Case.ipynb\" target=\"_parent\"><img src=\"https://colab.research.google.com/assets/colab-badge.svg\" alt=\"Open In Colab\"/></a>"
      ]
    },
    {
      "cell_type": "markdown",
      "metadata": {
        "id": "ykqp64z444yI",
        "colab_type": "text"
      },
      "source": [
        "Easy\n",
        "\n",
        "\n",
        "Implement function ToLowerCase() that has a string parameter str, and returns the same string in lowercase.\n",
        "\n",
        " \n",
        "\n",
        "Example 1:\n",
        "\n",
        "Input: \"Hello\"\n",
        "Output: \"hello\"\n",
        "Example 2:\n",
        "\n",
        "Input: \"here\"\n",
        "Output: \"here\"\n",
        "Example 3:\n",
        "\n",
        "Input: \"LOVELY\"\n",
        "Output: \"lovely\""
      ]
    },
    {
      "cell_type": "code",
      "metadata": {
        "id": "b6P0xnom47MQ",
        "colab_type": "code",
        "colab": {}
      },
      "source": [
        "class Solution(object):\n",
        "    def toLowerCase(self, str):\n",
        "        \"\"\"\n",
        "        :type str: str\n",
        "        :rtype: str\n",
        "        \"\"\"\n",
        "        self.str = str\n",
        "        return self.str.lower()"
      ],
      "execution_count": 0,
      "outputs": []
    },
    {
      "cell_type": "code",
      "metadata": {
        "id": "clIbi33m5B3a",
        "colab_type": "code",
        "outputId": "a00d7157-3dcc-4366-b175-e9a2b5dff482",
        "colab": {
          "base_uri": "https://localhost:8080/",
          "height": 34
        }
      },
      "source": [
        "s = Solution()\n",
        "s.toLowerCase('HeLoO')"
      ],
      "execution_count": 0,
      "outputs": [
        {
          "output_type": "execute_result",
          "data": {
            "text/plain": [
              "'heloo'"
            ]
          },
          "metadata": {
            "tags": []
          },
          "execution_count": 2
        }
      ]
    }
  ]
}
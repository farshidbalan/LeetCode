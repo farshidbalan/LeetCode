{
  "nbformat": 4,
  "nbformat_minor": 0,
  "metadata": {
    "colab": {
      "name": "804. Unique Morse Code Words.ipynb",
      "version": "0.3.2",
      "provenance": [],
      "include_colab_link": true
    },
    "kernelspec": {
      "name": "python3",
      "display_name": "Python 3"
    }
  },
  "cells": [
    {
      "cell_type": "markdown",
      "metadata": {
        "id": "view-in-github",
        "colab_type": "text"
      },
      "source": [
        "<a href=\"https://colab.research.google.com/github/farshidbalan/LeetCode/blob/master/804_Unique_Morse_Code_Words.ipynb\" target=\"_parent\"><img src=\"https://colab.research.google.com/assets/colab-badge.svg\" alt=\"Open In Colab\"/></a>"
      ]
    },
    {
      "cell_type": "markdown",
      "metadata": {
        "id": "Ag91BqGBqRt2",
        "colab_type": "text"
      },
      "source": [
        "Easy\n",
        "\n",
        "International Morse Code defines a standard encoding where each letter is mapped to a series of dots and dashes, as follows: \"a\" maps to \".-\", \"b\" maps to \"-...\", \"c\" maps to \"-.-.\", and so on.\n",
        "\n",
        "For convenience, the full table for the 26 letters of the English alphabet is given below:\n",
        "\n",
        "[\".-\",\"-...\",\"-.-.\",\"-..\",\".\",\"..-.\",\"--.\",\"....\",\"..\",\".---\",\"-.-\",\".-..\",\"--\",\"-.\",\"---\",\".--.\",\"--.-\",\".-.\",\"...\",\"-\",\"..-\",\"...-\",\".--\",\"-..-\",\"-.--\",\"--..\"]\n",
        "Now, given a list of words, each word can be written as a concatenation of the Morse code of each letter. For example, \"cba\" can be written as \"-.-..--...\", (which is the concatenation \"-.-.\" + \"-...\" + \".-\"). We'll call such a concatenation, the transformation of a word.\n",
        "\n",
        "Return the number of different transformations among all words we have.\n",
        "\n",
        "Example:\n",
        "\n",
        "Input: words = [\"gin\", \"zen\", \"gig\", \"msg\"]\n",
        "\n",
        "Output: 2\n",
        "\n",
        "Explanation: \n",
        "\n",
        "The transformation of each word is:\n",
        "\"gin\" -> \"--...-.\"\n",
        "\"zen\" -> \"--...-.\"\n",
        "\"gig\" -> \"--...--.\"\n",
        "\"msg\" -> \"--...--.\"\n",
        "\n",
        "There are 2 different transformations, \"--...-.\" and \"--...--.\".\n",
        "\n",
        "Note:\n",
        "\n",
        "The length of words will be at most 100.\n",
        "Each words[i] will have length in range [1, 12].\n",
        "words[i] will only consist of lowercase letters.\n",
        "Accepted"
      ]
    },
    {
      "cell_type": "code",
      "metadata": {
        "id": "cRPO0uR4qLb0",
        "colab_type": "code",
        "colab": {}
      },
      "source": [
        "class Solution(object):\n",
        "    def uniqueMorseRepresentations(self, words):\n",
        "        \"\"\"\n",
        "        :type words: List[str]\n",
        "        :rtype: int\n",
        "        \"\"\"\n",
        "        import string\n",
        "        morse = [\".-\",\"-...\",\"-.-.\",\"-..\",\".\",\"..-.\",\"--.\",\"....\",\"..\",\".---\",\"-.-\",\".-..\",\"--\",\"-.\",\"---\",\".--.\",\"--.-\",\".-.\",\"...\",\"-\",\"..-\",\"...-\",\".--\",\"-..-\",\"-.--\",\"--..\"]\n",
        "        alphabets = list(string.ascii_lowercase)\n",
        "        letter_to_morse = dict(zip(alphabets, morse))\n",
        "        morse_mapped = {word: ('').join([letter_to_morse.get(letter) for letter in word]) for word in words} \n",
        "        for word, mapped in morse_mapped.items():\n",
        "            print(f'\"{word}\" -> \"{mapped}\"')          \n",
        "        unique = set(morse_mapped.values())\n",
        "        out = (' and ').join(list(unique))\n",
        "        print(f'There are {len(unique)} different transformations, {out}.')\n",
        "        return len(unique)"
      ],
      "execution_count": 0,
      "outputs": []
    },
    {
      "cell_type": "code",
      "metadata": {
        "id": "Mk55NEMxqlj5",
        "colab_type": "code",
        "colab": {
          "base_uri": "https://localhost:8080/",
          "height": 137
        },
        "outputId": "571e0931-ecec-4fcf-9481-17671279c6cb"
      },
      "source": [
        "s = Solution()\n",
        "s.uniqueMorseRepresentations([\"rwjje\",\"aittjje\",\"auyyn\",\"lqtktn\",\"lmjwn\"])"
      ],
      "execution_count": 2,
      "outputs": [
        {
          "output_type": "stream",
          "text": [
            "\"rwjje\" -> \".-..--.---.---.\"\n",
            "\"aittjje\" -> \".-..--.---.---.\"\n",
            "\"auyyn\" -> \".-..--.---.---.\"\n",
            "\"lqtktn\" -> \".-..--.---.---.\"\n",
            "\"lmjwn\" -> \".-..--.---.---.\"\n",
            "There are 1 different transformations, .-..--.---.---..\n"
          ],
          "name": "stdout"
        },
        {
          "output_type": "execute_result",
          "data": {
            "text/plain": [
              "1"
            ]
          },
          "metadata": {
            "tags": []
          },
          "execution_count": 2
        }
      ]
    }
  ]
}
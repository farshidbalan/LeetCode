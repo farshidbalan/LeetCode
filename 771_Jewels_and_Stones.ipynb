{
  "nbformat": 4,
  "nbformat_minor": 0,
  "metadata": {
    "colab": {
      "name": "771. Jewels and Stones.ipynb",
      "version": "0.3.2",
      "provenance": [],
      "include_colab_link": true
    },
    "kernelspec": {
      "name": "python3",
      "display_name": "Python 3"
    }
  },
  "cells": [
    {
      "cell_type": "markdown",
      "metadata": {
        "id": "view-in-github",
        "colab_type": "text"
      },
      "source": [
        "<a href=\"https://colab.research.google.com/github/farshidbalan/LeetCode/blob/master/771_Jewels_and_Stones.ipynb\" target=\"_parent\"><img src=\"https://colab.research.google.com/assets/colab-badge.svg\" alt=\"Open In Colab\"/></a>"
      ]
    },
    {
      "cell_type": "markdown",
      "metadata": {
        "id": "dOz8toxOqlER",
        "colab_type": "text"
      },
      "source": [
        "\n",
        "Easy\n",
        "\n",
        "\n",
        "Share\n",
        "You're given strings J representing the types of stones that are jewels, and S representing the stones you have.  Each character in S is a type of stone you have.  You want to know how many of the stones you have are also jewels.\n",
        "\n",
        "The letters in J are guaranteed distinct, and all characters in J and S are letters. Letters are case sensitive, so \"a\" is considered a different type of stone from \"A\".\n",
        "\n",
        "Example 1:\n",
        "\n",
        "Input: J = \"aA\", S = \"aAAbbbb\"\n",
        "Output: 3\n",
        "Example 2:\n",
        "\n",
        "Input: J = \"z\", S = \"ZZ\"\n",
        "Output: 0\n",
        "Note:\n",
        "\n",
        "S and J will consist of letters and have length at most 50.\n",
        "The characters in J are distinct."
      ]
    },
    {
      "cell_type": "code",
      "metadata": {
        "id": "B4j4fV6LqxIq",
        "colab_type": "code",
        "colab": {}
      },
      "source": [
        "# My solution\n",
        "class Solution(object):\n",
        "    def numJewelsInStones(self, J, S):\n",
        "        \"\"\"\n",
        "        :type J: str\n",
        "        :type S: str\n",
        "        :rtype: int\n",
        "        \"\"\"\n",
        "        self.J = J\n",
        "        self.S = S       \n",
        "        num_jew = 0\n",
        "        for i in list(J):\n",
        "           for k in list(S):\n",
        "              if i == k:\n",
        "                num_jew +=1\n",
        "            \n",
        "        return num_jew"
      ],
      "execution_count": 0,
      "outputs": []
    },
    {
      "cell_type": "code",
      "metadata": {
        "id": "XF5AJs_pqxe1",
        "colab_type": "code",
        "outputId": "e95346df-2bd6-4d32-ddd6-de258a63f32b",
        "colab": {
          "base_uri": "https://localhost:8080/",
          "height": 34
        }
      },
      "source": [
        "A = Solution()\n",
        "A.numJewelsInStones('ad', 'aAggAdd')"
      ],
      "execution_count": 0,
      "outputs": [
        {
          "output_type": "execute_result",
          "data": {
            "text/plain": [
              "3"
            ]
          },
          "metadata": {
            "tags": []
          },
          "execution_count": 5
        }
      ]
    },
    {
      "cell_type": "code",
      "metadata": {
        "id": "avka3yMaqxiL",
        "colab_type": "code",
        "colab": {}
      },
      "source": [
        "# Better Solution\n",
        "class Solution(object):\n",
        "    def numJewelsInStones(self, J, S):\n",
        "        return sum(S.count(j) for j in J)"
      ],
      "execution_count": 0,
      "outputs": []
    }
  ]
}
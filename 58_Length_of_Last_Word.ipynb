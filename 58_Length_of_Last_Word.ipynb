{
  "nbformat": 4,
  "nbformat_minor": 0,
  "metadata": {
    "colab": {
      "name": "58. Length of Last Word",
      "version": "0.3.2",
      "provenance": [],
      "include_colab_link": true
    },
    "kernelspec": {
      "name": "python3",
      "display_name": "Python 3"
    }
  },
  "cells": [
    {
      "cell_type": "markdown",
      "metadata": {
        "id": "view-in-github",
        "colab_type": "text"
      },
      "source": [
        "<a href=\"https://colab.research.google.com/github/farshidbalan/LeetCode/blob/master/58_Length_of_Last_Word.ipynb\" target=\"_parent\"><img src=\"https://colab.research.google.com/assets/colab-badge.svg\" alt=\"Open In Colab\"/></a>"
      ]
    },
    {
      "cell_type": "markdown",
      "metadata": {
        "id": "H3jS2B7eKqQb",
        "colab_type": "text"
      },
      "source": [
        "__Easy__\n",
        "\n",
        "\n",
        "Given a string s consists of upper/lower-case alphabets and empty space characters ' ', return the length of last word in the string.\n",
        "\n",
        "If the last word does not exist, return 0.\n",
        "\n",
        "Note: A word is defined as a character sequence consists of non-space characters only.\n",
        "\n",
        "\n",
        "Example:\n",
        "\n",
        "\n",
        "Input: \"Hello World\"\n",
        "Output: 5"
      ]
    },
    {
      "cell_type": "code",
      "metadata": {
        "id": "irjiK9_XKytu",
        "colab_type": "code",
        "colab": {}
      },
      "source": [
        "class Solution:\n",
        "    def lengthOfLastWord(self, s: str) -> int:           \n",
        "      return len(s.strip().split(' ')[-1])\n",
        "    "
      ],
      "execution_count": 0,
      "outputs": []
    },
    {
      "cell_type": "code",
      "metadata": {
        "id": "eqam-r1qMmdB",
        "colab_type": "code",
        "colab": {
          "base_uri": "https://localhost:8080/",
          "height": 34
        },
        "outputId": "92d8f916-6257-4fcc-cd91-bcac0075cfd2"
      },
      "source": [
        "sol = Solution()\n",
        "sol.lengthOfLastWord(\"a \")"
      ],
      "execution_count": 40,
      "outputs": [
        {
          "output_type": "execute_result",
          "data": {
            "text/plain": [
              "1"
            ]
          },
          "metadata": {
            "tags": []
          },
          "execution_count": 40
        }
      ]
    },
    {
      "cell_type": "code",
      "metadata": {
        "id": "uKZQbw61MmZ5",
        "colab_type": "code",
        "colab": {
          "base_uri": "https://localhost:8080/",
          "height": 34
        },
        "outputId": "1a633132-2fb0-440a-eca9-c10f35b6debf"
      },
      "source": [
        "sol.lengthOfLastWord(\"Hello World ! \")"
      ],
      "execution_count": 43,
      "outputs": [
        {
          "output_type": "execute_result",
          "data": {
            "text/plain": [
              "1"
            ]
          },
          "metadata": {
            "tags": []
          },
          "execution_count": 43
        }
      ]
    }
  ]
}
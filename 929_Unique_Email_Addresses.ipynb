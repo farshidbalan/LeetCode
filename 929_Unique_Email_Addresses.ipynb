{
  "nbformat": 4,
  "nbformat_minor": 0,
  "metadata": {
    "colab": {
      "name": "929. Unique Email Addresses.ipynb",
      "version": "0.3.2",
      "provenance": [],
      "collapsed_sections": [],
      "include_colab_link": true
    },
    "kernelspec": {
      "name": "python3",
      "display_name": "Python 3"
    }
  },
  "cells": [
    {
      "cell_type": "markdown",
      "metadata": {
        "id": "view-in-github",
        "colab_type": "text"
      },
      "source": [
        "<a href=\"https://colab.research.google.com/github/farshidbalan/LeetCode/blob/master/929_Unique_Email_Addresses.ipynb\" target=\"_parent\"><img src=\"https://colab.research.google.com/assets/colab-badge.svg\" alt=\"Open In Colab\"/></a>"
      ]
    },
    {
      "cell_type": "markdown",
      "metadata": {
        "id": "SF5Sxmh8pc5F",
        "colab_type": "text"
      },
      "source": [
        "__Easy__\n",
        "\n",
        "Every email consists of a local name and a domain name, separated by the @ sign.\n",
        "\n",
        "For example, in alice@leetcode.com, alice is the local name, and leetcode.com is the domain name.\n",
        "\n",
        "Besides lowercase letters, these emails may contain '.'s or '+'s.\n",
        "\n",
        "If you add periods ('.') between some characters in the local name part of an email address, mail sent there will be forwarded to the same address without dots in the local name.  For example, \"alice.z@leetcode.com\" and \"alicez@leetcode.com\" forward to the same email address.  (Note that this rule does not apply for domain names.)\n",
        "\n",
        "If you add a plus ('+') in the local name, everything after the first plus sign will be ignored. This allows certain emails to be filtered, for example m.y+name@email.com will be forwarded to my@email.com.  (Again, this rule does not apply for domain names.)\n",
        "\n",
        "It is possible to use both of these rules at the same time.\n",
        "\n",
        "Given a list of emails, we send one email to each address in the list.  How many different addresses actually receive mails? \n",
        "\n",
        " \n",
        "\n",
        "Example 1:\n",
        "\n",
        "```\n",
        "# Input: [\"test.email+alex@leetcode.com\",\"test.e.mail+bob.cathy@leetcode.com\",\"testemail+david@lee.tcode.com\"]\n",
        "# Output: 2\n",
        "# Explanation: \"testemail@leetcode.com\" and \"testemail@lee.tcode.com\" actually receive mails\n",
        " ```\n",
        "\n",
        "\n",
        "Note:\n",
        "\n",
        "1 <= emails[i].length <= 100\n",
        "\n",
        "1 <= emails.length <= 100\n",
        "\n",
        "Each emails[i] contains exactly one '@' character.\n",
        "\n",
        "All local and domain names are non-empty.\n",
        "\n",
        "Local names do not start with a '+' character."
      ]
    },
    {
      "cell_type": "code",
      "metadata": {
        "id": "wKtEP1KRpupa",
        "colab_type": "code",
        "colab": {}
      },
      "source": [
        "# Accepted Answer \n",
        "# 40 ms, faster than 96.10% of Python3 online submissions for Unique Email Addresses.\n",
        "class Solution:\n",
        "  \n",
        "  @staticmethod\n",
        "  def filter_local(email):\n",
        "        local, domain = email.split(\"@\")[0].replace('.', ''), email.split(\"@\")[1]\n",
        "        local = local.split('+')[0] if '+' in local else local\n",
        "        email = f\"{local}@{domain}\"\n",
        "        return email\n",
        "\n",
        "  def numUniqueEmails(self, emails) -> int:\n",
        "      return len(set(map(self.filter_local, emails)))\n",
        "      "
      ],
      "execution_count": 0,
      "outputs": []
    },
    {
      "cell_type": "code",
      "metadata": {
        "id": "oGCuH2VyrLYi",
        "colab_type": "code",
        "colab": {
          "base_uri": "https://localhost:8080/",
          "height": 34
        },
        "outputId": "7961da86-2c7a-4702-8d65-5910141f34dc"
      },
      "source": [
        "s = Solution()\n",
        "\n",
        "inpt1 = [\"test.email+alex@leetcode.com\",\"test.e.mail+bob.cathy@leetcode.com\",\"testemail+david@lee.tcode.com\"]\n",
        "s.numUniqueEmails(inpt1)"
      ],
      "execution_count": 73,
      "outputs": [
        {
          "output_type": "execute_result",
          "data": {
            "text/plain": [
              "2"
            ]
          },
          "metadata": {
            "tags": []
          },
          "execution_count": 73
        }
      ]
    },
    {
      "cell_type": "code",
      "metadata": {
        "id": "dRdEqneErtyj",
        "colab_type": "code",
        "colab": {
          "base_uri": "https://localhost:8080/",
          "height": 34
        },
        "outputId": "63b7adf2-8a47-4e23-f3ee-ecc2dead56cc"
      },
      "source": [
        "inpt2 = [\"fg.r.u.uzj+o.pw@kziczvh.com\",\"r.cyo.g+d.h+b.ja@tgsg.z.com\",\"fg.r.u.uzj+o.f.d@kziczvh.com\",\"r.cyo.g+ng.r.iq@tgsg.z.com\",\"fg.r.u.uzj+lp.k@kziczvh.com\",\"r.cyo.g+n.h.e+n.g@tgsg.z.com\",\"fg.r.u.uzj+k+p.j@kziczvh.com\",\"fg.r.u.uzj+w.y+b@kziczvh.com\",\"r.cyo.g+x+d.c+f.t@tgsg.z.com\",\"r.cyo.g+x+t.y.l.i@tgsg.z.com\",\"r.cyo.g+brxxi@tgsg.z.com\",\"r.cyo.g+z+dr.k.u@tgsg.z.com\",\"r.cyo.g+d+l.c.n+g@tgsg.z.com\",\"fg.r.u.uzj+vq.o@kziczvh.com\",\"fg.r.u.uzj+uzq@kziczvh.com\",\"fg.r.u.uzj+mvz@kziczvh.com\",\"fg.r.u.uzj+taj@kziczvh.com\",\"fg.r.u.uzj+fek@kziczvh.com\"]\n",
        "s.numUniqueEmails(inpt2)"
      ],
      "execution_count": 74,
      "outputs": [
        {
          "output_type": "execute_result",
          "data": {
            "text/plain": [
              "2"
            ]
          },
          "metadata": {
            "tags": []
          },
          "execution_count": 74
        }
      ]
    },
    {
      "cell_type": "code",
      "metadata": {
        "id": "v35HHhevvJv8",
        "colab_type": "code",
        "colab": {}
      },
      "source": [
        "# A better answer\n",
        "\n",
        "class Solution:\n",
        "  \n",
        "  @staticmethod\n",
        "  def filter_local(email):\n",
        "        local, domain = email.split(\"@\")  \n",
        "        local = local.replace('.', '').split('+')[0] \n",
        "        email = f\"{local}@{domain}\"\n",
        "        return email\n",
        "\n",
        "  def numUniqueEmails(self, emails) -> int:\n",
        "      return len(set(map(self.filter_local, emails)))"
      ],
      "execution_count": 0,
      "outputs": []
    }
  ]
}